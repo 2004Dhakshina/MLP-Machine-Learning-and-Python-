{
  "nbformat": 4,
  "nbformat_minor": 0,
  "metadata": {
    "colab": {
      "provenance": []
    },
    "kernelspec": {
      "name": "python3",
      "display_name": "Python 3"
    },
    "language_info": {
      "name": "python"
    }
  },
  "cells": [
    {
      "cell_type": "markdown",
      "source": [
        "**Assignment 6 (15/09/2-25) while loop**"
      ],
      "metadata": {
        "id": "upIRHVmzsdJP"
      }
    },
    {
      "cell_type": "markdown",
      "source": [
        "**1. Employee Salary Increment**\n",
        "\n",
        "A company gives a 5% yearly increment to an employee’s salary. Write a for loop to calculate the employee’s salary for the next 10 years starting from ₹50,000."
      ],
      "metadata": {
        "id": "pE7klktAs5l1"
      }
    },
    {
      "cell_type": "code",
      "source": [
        "salary = 50000\n",
        "year = 1\n",
        "while year <= 10:\n",
        "    salary += salary * 0.05\n",
        "    print(f\"Year {year}: ₹{salary:.2f}\")\n",
        "    year += 1"
      ],
      "metadata": {
        "colab": {
          "base_uri": "https://localhost:8080/"
        },
        "id": "yCS0dYYAscpv",
        "outputId": "8cbfd5a1-4c87-4a35-dcae-336d0124997c"
      },
      "execution_count": null,
      "outputs": [
        {
          "output_type": "stream",
          "name": "stdout",
          "text": [
            "Year 1: ₹52500.00\n",
            "Year 2: ₹55125.00\n",
            "Year 3: ₹57881.25\n",
            "Year 4: ₹60775.31\n",
            "Year 5: ₹63814.08\n",
            "Year 6: ₹67004.78\n",
            "Year 7: ₹70355.02\n",
            "Year 8: ₹73872.77\n",
            "Year 9: ₹77566.41\n",
            "Year 10: ₹81444.73\n"
          ]
        }
      ]
    },
    {
      "cell_type": "markdown",
      "source": [
        "**2. Class Attendance Percentage**\n",
        "\n",
        "A student attended 18 out of 25 classes. Write a for loop to calculate and display the attendance percentage for each class attended (like running count).\n"
      ],
      "metadata": {
        "id": "rtY8R9kkscUK"
      }
    },
    {
      "cell_type": "code",
      "source": [
        "classes = 25\n",
        "attended = 0\n",
        "current_class = 1\n",
        "\n",
        "while current_class <= classes:\n",
        "    # Simulate attending each class\n",
        "    if current_class <= 18:\n",
        "        attended += 1\n",
        "\n",
        "    percentage = (attended / current_class) * 100\n",
        "    print(f\"Class {current_class}: Attendance = {percentage:.2f}%\")\n",
        "    current_class += 1\n"
      ],
      "metadata": {
        "id": "5jpGOoaUsezG",
        "colab": {
          "base_uri": "https://localhost:8080/"
        },
        "outputId": "46c9c76b-9a8c-43c3-f531-9a6ebcc5f6c1"
      },
      "execution_count": 5,
      "outputs": [
        {
          "output_type": "stream",
          "name": "stdout",
          "text": [
            "Class 1: Attendance = 100.00%\n",
            "Class 2: Attendance = 100.00%\n",
            "Class 3: Attendance = 100.00%\n",
            "Class 4: Attendance = 100.00%\n",
            "Class 5: Attendance = 100.00%\n",
            "Class 6: Attendance = 100.00%\n",
            "Class 7: Attendance = 100.00%\n",
            "Class 8: Attendance = 100.00%\n",
            "Class 9: Attendance = 100.00%\n",
            "Class 10: Attendance = 100.00%\n",
            "Class 11: Attendance = 100.00%\n",
            "Class 12: Attendance = 100.00%\n",
            "Class 13: Attendance = 100.00%\n",
            "Class 14: Attendance = 100.00%\n",
            "Class 15: Attendance = 100.00%\n",
            "Class 16: Attendance = 100.00%\n",
            "Class 17: Attendance = 100.00%\n",
            "Class 18: Attendance = 100.00%\n",
            "Class 19: Attendance = 94.74%\n",
            "Class 20: Attendance = 90.00%\n",
            "Class 21: Attendance = 85.71%\n",
            "Class 22: Attendance = 81.82%\n",
            "Class 23: Attendance = 78.26%\n",
            "Class 24: Attendance = 75.00%\n",
            "Class 25: Attendance = 72.00%\n"
          ]
        }
      ]
    },
    {
      "cell_type": "markdown",
      "source": [
        "**3. Product Discount Prices**\n",
        "\n",
        "A store applies a 10% discount on all products. Given a list of original prices [100, 250, 400, 560, 700], use a for loop to calculate and print the discounted prices.\n",
        "\n"
      ],
      "metadata": {
        "id": "XdlL5oRSsfRE"
      }
    },
    {
      "cell_type": "code",
      "source": [
        "price=[100, 250, 400, 560, 700]\n",
        "discount=0.10\n",
        "i=0\n",
        "while i < len(price):\n",
        "  discounted_price = price[i] * (1 - discount)\n",
        "  print(f\"price:{discounted_price:.2f}\")\n",
        "  i += 1"
      ],
      "metadata": {
        "colab": {
          "base_uri": "https://localhost:8080/"
        },
        "id": "d8WNtMPTsfpA",
        "outputId": "e596bc5d-fbdf-41cb-821a-cc43871faaef"
      },
      "execution_count": null,
      "outputs": [
        {
          "output_type": "stream",
          "name": "stdout",
          "text": [
            "price:90.00\n",
            "price:225.00\n",
            "price:360.00\n",
            "price:504.00\n",
            "price:630.00\n"
          ]
        }
      ]
    },
    {
      "cell_type": "markdown",
      "source": [
        "\n",
        "**4. Monthly Savings Growth**\n",
        "\n",
        "A person saves ₹1,000 every month. Write a for loop to calculate and display the total savings at the end of each month for 12 months.\n"
      ],
      "metadata": {
        "id": "Ae6gqRB4sgH9"
      }
    },
    {
      "cell_type": "code",
      "source": [
        "saving = 1000\n",
        "month = 1\n",
        "total_saving=0\n",
        "while month <= 12:\n",
        "  total_saving += saving\n",
        "  print(f\"month {month}: ₹{total_saving:.2f}\")\n",
        "  month += 1\n"
      ],
      "metadata": {
        "colab": {
          "base_uri": "https://localhost:8080/"
        },
        "id": "MB0LthzRsgxz",
        "outputId": "0e1c934e-396f-465d-ec54-68fbaa70954b"
      },
      "execution_count": null,
      "outputs": [
        {
          "output_type": "stream",
          "name": "stdout",
          "text": [
            "month 1: ₹1000.00\n",
            "month 2: ₹2000.00\n",
            "month 3: ₹3000.00\n",
            "month 4: ₹4000.00\n",
            "month 5: ₹5000.00\n",
            "month 6: ₹6000.00\n",
            "month 7: ₹7000.00\n",
            "month 8: ₹8000.00\n",
            "month 9: ₹9000.00\n",
            "month 10: ₹10000.00\n",
            "month 11: ₹11000.00\n",
            "month 12: ₹12000.00\n"
          ]
        }
      ]
    },
    {
      "cell_type": "markdown",
      "source": [
        "**5. Electricity Bill Calculation**\n",
        "\n",
        "The electricity cost is ₹5 per unit. If a household consumes [120, 135, 150, 160, 145] units over 5 months, use a for loop to calculate the bill for each month.\n"
      ],
      "metadata": {
        "id": "twXGHtS-shLm"
      }
    },
    {
      "cell_type": "code",
      "source": [
        "consumes=[120, 135, 150, 160, 145]\n",
        "month = 1\n",
        "while month <= 5:\n",
        "    bill = consumes[month - 1] * 5\n",
        "    print(f\"month {month}: ₹{bill:.2f}\")\n",
        "    month += 1"
      ],
      "metadata": {
        "id": "sLbRSR1QshmY",
        "colab": {
          "base_uri": "https://localhost:8080/"
        },
        "outputId": "24ff8297-df04-4d86-c05a-194725de0180"
      },
      "execution_count": 6,
      "outputs": [
        {
          "output_type": "stream",
          "name": "stdout",
          "text": [
            "month 1: ₹600.00\n",
            "month 2: ₹675.00\n",
            "month 3: ₹750.00\n",
            "month 4: ₹800.00\n",
            "month 5: ₹725.00\n"
          ]
        }
      ]
    },
    {
      "cell_type": "markdown",
      "source": [
        "**6. Student Marks Percentage**\n",
        "\n",
        "A student scored marks in 5 subjects: [78, 85, 90, 66, 72]. Use a for loop to calculate the percentage (out of 100) for each subject."
      ],
      "metadata": {
        "id": "-XPWc7VjsiFE"
      }
    },
    {
      "cell_type": "code",
      "source": [
        "marks=[78,85,90,66,72]\n",
        "i=0\n",
        "while i < len(marks):\n",
        "  percentage=(marks[i]/100)*100\n",
        "  print(f\"subject {i+1} the % is {percentage:.0f}\")\n",
        "  i += 1"
      ],
      "metadata": {
        "colab": {
          "base_uri": "https://localhost:8080/"
        },
        "id": "CnL1aKyFsipi",
        "outputId": "ad9487bd-a43d-4dfa-eb83-60e88f08362d"
      },
      "execution_count": null,
      "outputs": [
        {
          "output_type": "stream",
          "name": "stdout",
          "text": [
            "subject 1 the % is 78\n",
            "subject 2 the % is 85\n",
            "subject 3 the % is 90\n",
            "subject 4 the % is 66\n",
            "subject 5 the % is 72\n"
          ]
        }
      ]
    }
  ]
}