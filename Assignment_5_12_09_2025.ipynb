{
  "nbformat": 4,
  "nbformat_minor": 0,
  "metadata": {
    "colab": {
      "provenance": []
    },
    "kernelspec": {
      "name": "python3",
      "display_name": "Python 3"
    },
    "language_info": {
      "name": "python"
    }
  },
  "cells": [
    {
      "cell_type": "markdown",
      "source": [
        "**Assignment 5**"
      ],
      "metadata": {
        "id": "DxGwVPZ7HFdH"
      }
    },
    {
      "cell_type": "markdown",
      "source": [
        "**1. Employee Salary Increment**\n",
        "\n",
        "A company gives a 5% yearly increment to an employee’s salary. Write a for loop to calculate the employee’s salary for the next 10 years starting from ₹50,000.\n"
      ],
      "metadata": {
        "id": "uRWj9ezuRy4-"
      }
    },
    {
      "cell_type": "code",
      "source": [
        "salary = 50000\n",
        "for i in range (1,11):\n",
        "  salary += salary * 0.05\n",
        "  print(f\"year {i}: ₹{salary:.2f}\")"
      ],
      "metadata": {
        "id": "eYlySGMSHE6S",
        "colab": {
          "base_uri": "https://localhost:8080/"
        },
        "outputId": "c823aeeb-0f0e-4fe1-f856-fd75cbcbf0b5"
      },
      "execution_count": 1,
      "outputs": [
        {
          "output_type": "stream",
          "name": "stdout",
          "text": [
            "year 1: ₹52500.00\n",
            "year 2: ₹55125.00\n",
            "year 3: ₹57881.25\n",
            "year 4: ₹60775.31\n",
            "year 5: ₹63814.08\n",
            "year 6: ₹67004.78\n",
            "year 7: ₹70355.02\n",
            "year 8: ₹73872.77\n",
            "year 9: ₹77566.41\n",
            "year 10: ₹81444.73\n"
          ]
        }
      ]
    },
    {
      "cell_type": "markdown",
      "source": [
        "**2. Class Attendance Percentage**\n",
        "\n",
        "A student attended 18 out of 25 classes. Write a for loop to calculate and display the attendance percentage for each class attended (like running count).\n"
      ],
      "metadata": {
        "id": "jTqfVrbbTJRb"
      }
    },
    {
      "cell_type": "code",
      "source": [
        "classes = 25\n",
        "attended = 18\n",
        "for i in range(1, classes+1):\n",
        "    attended=(i/classes)*100\n",
        "    print(f\"class {i}: {attended:.0f}%\")\n"
      ],
      "metadata": {
        "colab": {
          "base_uri": "https://localhost:8080/"
        },
        "id": "UOm3znbYTOYk",
        "outputId": "cc5a6957-6d36-430d-80c5-1d3283f23518"
      },
      "execution_count": 2,
      "outputs": [
        {
          "output_type": "stream",
          "name": "stdout",
          "text": [
            "class 1: 4%\n",
            "class 2: 8%\n",
            "class 3: 12%\n",
            "class 4: 16%\n",
            "class 5: 20%\n",
            "class 6: 24%\n",
            "class 7: 28%\n",
            "class 8: 32%\n",
            "class 9: 36%\n",
            "class 10: 40%\n",
            "class 11: 44%\n",
            "class 12: 48%\n",
            "class 13: 52%\n",
            "class 14: 56%\n",
            "class 15: 60%\n",
            "class 16: 64%\n",
            "class 17: 68%\n",
            "class 18: 72%\n",
            "class 19: 76%\n",
            "class 20: 80%\n",
            "class 21: 84%\n",
            "class 22: 88%\n",
            "class 23: 92%\n",
            "class 24: 96%\n",
            "class 25: 100%\n"
          ]
        }
      ]
    },
    {
      "cell_type": "markdown",
      "source": [
        "**3. Product Discount Prices**\n",
        "\n",
        "A store applies a 10% discount on all products. Given a list of original prices [100, 250, 400, 560, 700], use a for loop to calculate and print the discounted prices.\n",
        "\n"
      ],
      "metadata": {
        "id": "GiSEy4WtTPl6"
      }
    },
    {
      "cell_type": "code",
      "source": [
        "price=[100,250,400,560,700]\n",
        "discount=0.10\n",
        "for i in price:\n",
        "  discounted_price =i*(1-discount)\n",
        "  print(f\"price:{i},discounted:{discounted_price:.2f}\")"
      ],
      "metadata": {
        "colab": {
          "base_uri": "https://localhost:8080/"
        },
        "id": "c2CBb41pTPQv",
        "outputId": "d3ac957d-b584-49c1-c103-4afdd1b31e79"
      },
      "execution_count": 3,
      "outputs": [
        {
          "output_type": "stream",
          "name": "stdout",
          "text": [
            "price:100,discounted:90.00\n",
            "price:250,discounted:225.00\n",
            "price:400,discounted:360.00\n",
            "price:560,discounted:504.00\n",
            "price:700,discounted:630.00\n"
          ]
        }
      ]
    },
    {
      "cell_type": "markdown",
      "source": [
        "**4. Monthly Savings Growth**\n",
        "\n",
        "A person saves ₹1,000 every month. Write a for loop to calculate and display the total savings at the end of each month for 12 months.\n"
      ],
      "metadata": {
        "id": "xmu8xlT4TO5S"
      }
    },
    {
      "cell_type": "code",
      "source": [
        "savings = 1000\n",
        "for i in range(1,13):\n",
        "  savings += 1000\n",
        "  print(f\"month {i}: ₹{savings:.2f}\")"
      ],
      "metadata": {
        "id": "mFR3g7RpTaAN",
        "colab": {
          "base_uri": "https://localhost:8080/"
        },
        "outputId": "b5d0c09d-e50a-4500-834f-88acc2352a1b"
      },
      "execution_count": 4,
      "outputs": [
        {
          "output_type": "stream",
          "name": "stdout",
          "text": [
            "month 1: ₹2000.00\n",
            "month 2: ₹3000.00\n",
            "month 3: ₹4000.00\n",
            "month 4: ₹5000.00\n",
            "month 5: ₹6000.00\n",
            "month 6: ₹7000.00\n",
            "month 7: ₹8000.00\n",
            "month 8: ₹9000.00\n",
            "month 9: ₹10000.00\n",
            "month 10: ₹11000.00\n",
            "month 11: ₹12000.00\n",
            "month 12: ₹13000.00\n"
          ]
        }
      ]
    },
    {
      "cell_type": "markdown",
      "source": [
        "**5. Electricity Bill Calculation**\n",
        "\n",
        "The electricity cost is ₹5 per unit. If a household consumes [120, 135, 150, 160, 145] units over 5 months, use a for loop to calculate the bill for each month.\n"
      ],
      "metadata": {
        "id": "stu5aypyTanL"
      }
    },
    {
      "cell_type": "code",
      "source": [
        "consumes=[120,135,150,160,145]\n",
        "for i in range(1,6):\n",
        "  bill=consumes[i-1]*5\n",
        "  print(f\"month {i}: ₹{bill:.2f}\")"
      ],
      "metadata": {
        "id": "LmoYpQ0ZTf0i",
        "colab": {
          "base_uri": "https://localhost:8080/"
        },
        "outputId": "ae427d40-8326-46d4-8a59-77948619492d"
      },
      "execution_count": 5,
      "outputs": [
        {
          "output_type": "stream",
          "name": "stdout",
          "text": [
            "month 1: ₹600.00\n",
            "month 2: ₹675.00\n",
            "month 3: ₹750.00\n",
            "month 4: ₹800.00\n",
            "month 5: ₹725.00\n"
          ]
        }
      ]
    },
    {
      "cell_type": "markdown",
      "source": [
        "**6. Student Marks Percentage**\n",
        "\n",
        "A student scored marks in 5 subjects: [78, 85, 90, 66, 72]. Use a for loop to calculate the percentage (out of 100) for each subject."
      ],
      "metadata": {
        "id": "PSqDzDWiTeug"
      }
    },
    {
      "cell_type": "code",
      "source": [
        "marks=[78, 85, 90, 66, 72]\n",
        "for i in marks:\n",
        "  percentage=(i/100)*100\n",
        "  print(f\"{i} the % is {percentage:.2f}\")\n"
      ],
      "metadata": {
        "id": "EbUL2VWGTlVq",
        "colab": {
          "base_uri": "https://localhost:8080/"
        },
        "outputId": "d5d022d7-034b-49c7-ed4a-1f2e0f8f9381"
      },
      "execution_count": 6,
      "outputs": [
        {
          "output_type": "stream",
          "name": "stdout",
          "text": [
            "78 the % is 78.00\n",
            "85 the % is 85.00\n",
            "90 the % is 90.00\n",
            "66 the % is 66.00\n",
            "72 the % is 72.00\n"
          ]
        }
      ]
    }
  ]
}