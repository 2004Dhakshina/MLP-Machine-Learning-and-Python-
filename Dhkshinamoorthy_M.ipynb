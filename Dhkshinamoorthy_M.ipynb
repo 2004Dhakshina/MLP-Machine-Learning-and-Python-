{
  "nbformat": 4,
  "nbformat_minor": 0,
  "metadata": {
    "colab": {
      "provenance": []
    },
    "kernelspec": {
      "name": "python3",
      "display_name": "Python 3"
    },
    "language_info": {
      "name": "python"
    }
  },
  "cells": [
    {
      "cell_type": "markdown",
      "source": [
        "ASSIGNMENT 3"
      ],
      "metadata": {
        "id": "cBc8iV2wy5I0"
      }
    },
    {
      "cell_type": "markdown",
      "source": [
        "1. E-commerce Discount Calculator\n",
        "\n",
        "Scenario: An online store offers discounts based on the purchase amount:\n",
        "\n",
        "10% discount for purchases between $100 and $500\n",
        "\n",
        "20% discount for purchases above $500\n",
        "\n",
        "No discount for purchases below $100\n",
        "\n",
        "\n",
        "Task: Write a program that takes the purchase amount as input and calculates the discount and final amount to be paid.\n"
      ],
      "metadata": {
        "id": "bXoVrnJNzFry"
      }
    },
    {
      "cell_type": "code",
      "source": [
        "purchase = float(input(\"Enter purchase amount: \"))\n",
        "if purchase < 100:\n",
        "    discount = 0\n",
        "elif 100 <= purchase <= 500:\n",
        "    discount = 0.10 * purchase\n",
        "else:\n",
        "    discount = 0.20 * purchase\n",
        "amount = purchase - discount\n",
        "print(f\"Discount:{discount:.1f}\")\n",
        "print(f\"Final Amount to Pay:{final_amount:.1f}\")"
      ],
      "metadata": {
        "colab": {
          "base_uri": "https://localhost:8080/"
        },
        "id": "uNpBTIphzKPh",
        "outputId": "81e604c4-bded-4b33-e919-51be14dc8653"
      },
      "execution_count": null,
      "outputs": [
        {
          "output_type": "stream",
          "name": "stdout",
          "text": [
            "Enter purchase amount: 887\n",
            "Discount:177.4\n",
            "Final Amount to Pay:560.0\n"
          ]
        }
      ]
    },
    {
      "cell_type": "markdown",
      "source": [
        "2. Traffic Light Simulation\n",
        "\n",
        "Scenario: Create a program that simulates a traffic light. The user inputs one of the colors: Red, Yellow, or Green. Based on the input:\n",
        "\n",
        "If the input is Red, display \"Stop.\"\n",
        "\n",
        "If the input is Yellow, display \"Ready to move.\"\n",
        "\n",
        "If the input is Green, display \"Go.\"\n",
        "\n",
        "For invalid input, display \"Invalid color.\"\n"
      ],
      "metadata": {
        "id": "wUcQPnB-32Si"
      }
    },
    {
      "cell_type": "code",
      "source": [
        "color = input(\"Enter a color: \").strip().lower()\n",
        "if color == \"red\":\n",
        "    print(\"Stop\")\n",
        "elif color == \"yellow\":\n",
        "    print(\"Ready to move.\")\n",
        "elif color == \"green\":\n",
        "    print(\"Go\")\n",
        "else:\n",
        "    print(\"Invalid color\")"
      ],
      "metadata": {
        "colab": {
          "base_uri": "https://localhost:8080/"
        },
        "id": "eAGnVYar38eG",
        "outputId": "dc2cd778-8b0f-410c-e14c-a9ca12e73c3e"
      },
      "execution_count": null,
      "outputs": [
        {
          "output_type": "stream",
          "name": "stdout",
          "text": [
            "Enter a color: grEEN\n",
            "Go\n"
          ]
        }
      ]
    },
    {
      "cell_type": "markdown",
      "source": [
        "\n",
        "3. Grade Evaluation System\n",
        "\n",
        "Scenario: A school uses the following grading system:\n",
        "\n",
        "Marks >= 90: Grade A\n",
        "\n",
        "Marks >= 75 and < 90: Grade B\n",
        "\n",
        "Marks >= 50 and < 75: Grade C\n",
        "\n",
        "Marks < 50: Fail\n",
        "\n",
        "\n",
        "Task: Write a program that accepts the student's marks and displays their grade."
      ],
      "metadata": {
        "id": "tlMBJBtJ5o1T"
      }
    },
    {
      "cell_type": "code",
      "source": [
        "mark=int(input(\"Enter your marks:\"))\n",
        "if mark >= 90:\n",
        "    print(\"Grade A\")\n",
        "elif 75 <= mark < 90:\n",
        "    print(\"Grade B\")\n",
        "elif 50 <= mark < 75:\n",
        "    print(\"Grade C\")\n",
        "else:\n",
        "    print(\"Fail\")"
      ],
      "metadata": {
        "colab": {
          "base_uri": "https://localhost:8080/"
        },
        "id": "HaY4rWjT5yZS",
        "outputId": "5a931224-358e-483a-a828-a4f71db8eed9"
      },
      "execution_count": null,
      "outputs": [
        {
          "output_type": "stream",
          "name": "stdout",
          "text": [
            "Enter your marks:99\n",
            "Grade A\n"
          ]
        }
      ]
    },
    {
      "cell_type": "markdown",
      "source": [
        "4. Odd or Even and Divisibility Check\n",
        "\n",
        "Scenario: Write a program that takes an integer as input and checks:\n",
        "\n",
        "Whether the number is odd or even\n",
        "\n",
        "Whether the number is divisible by 5\n",
        "\n",
        "\n",
        "Display appropriate messages for both conditions.\n"
      ],
      "metadata": {
        "id": "dbTgrnaZ6Rqf"
      }
    },
    {
      "cell_type": "code",
      "source": [
        "num = int(input(\"Enter a number: \"))\n",
        "if num % 2 == 0:\n",
        "    print(f\"{num} is even\")\n",
        "else:\n",
        "    print(f\"{num} is odd\")\n",
        "if num % 5 == 0:\n",
        "    print(f\"{num}is divisible by 5\")\n",
        "else:\n",
        "    print(f\"{num} is not divisible by 5\")"
      ],
      "metadata": {
        "colab": {
          "base_uri": "https://localhost:8080/"
        },
        "id": "WTz49VK56WjR",
        "outputId": "27cd0be7-21b0-428d-82a7-db492f1c2d66"
      },
      "execution_count": null,
      "outputs": [
        {
          "output_type": "stream",
          "name": "stdout",
          "text": [
            "Enter a number: 18\n",
            "18 is even\n",
            "18 is not divisible by 5\n"
          ]
        }
      ]
    },
    {
      "cell_type": "markdown",
      "source": [
        "5. Password Strength Checker\n",
        "\n",
        "Scenario: Write a program that checks the strength of a password based on these rules:\n",
        "\n",
        "Length >= 8 characters: Strong\n",
        "\n",
        "Length between 5 and 7 characters: Medium\n",
        "\n",
        "Length < 5 characters: Weak\n"
      ],
      "metadata": {
        "id": "wx35nFmu7Nv8"
      }
    },
    {
      "cell_type": "code",
      "source": [
        "password = input(\"Enter a password: \")\n",
        "if len(password)>=8:\n",
        "  print(\"strong\")\n",
        "elif len(password)<=5 and len(password)<8:\n",
        "  print(\"medium\")\n",
        "else:\n",
        "  print(\"weak\")"
      ],
      "metadata": {
        "colab": {
          "base_uri": "https://localhost:8080/"
        },
        "id": "gksq3QWl7R92",
        "outputId": "99daa186-852b-40e1-f878-bd663f0f8350"
      },
      "execution_count": null,
      "outputs": [
        {
          "output_type": "stream",
          "name": "stdout",
          "text": [
            "Enter a password: 12345\n",
            "medium\n"
          ]
        }
      ]
    },
    {
      "cell_type": "markdown",
      "source": [
        "6. Electricity Bill Calculator\n",
        "\n",
        "Scenario: An electricity company charges its customers as follows:\n",
        "\n",
        "First 100 units: $0.5 per unit\n",
        "\n",
        "Next 100 units (101-200): $0.75 per unit\n",
        "\n",
        "Above 200 units: $1 per unit\n",
        "\n",
        "\n",
        "Task: Write a program that accepts the number of units consumed and calculates the total bill.\n"
      ],
      "metadata": {
        "id": "PBIJ8Ipj8D9c"
      }
    },
    {
      "cell_type": "code",
      "source": [
        "units = float(input(\"enter the units:\"))\n",
        "if units <= 100:\n",
        "  bill=(units*0.5)\n",
        "elif 101 <= units <= 200:\n",
        "  bill=(100*0.5)+(units-100)*0.75\n",
        "else:\n",
        "  bill=(100*0.5)+(100*0.75)+(units-200)*1.0\n",
        "print(f\"total bill:{bill:.2f}\")"
      ],
      "metadata": {
        "colab": {
          "base_uri": "https://localhost:8080/"
        },
        "id": "uBXwJ2-h8RDJ",
        "outputId": "0c95fbed-5d34-44ac-da5e-326d80401174"
      },
      "execution_count": null,
      "outputs": [
        {
          "output_type": "stream",
          "name": "stdout",
          "text": [
            "enter the units:150\n",
            "total bill:87.50\n"
          ]
        }
      ]
    },
    {
      "cell_type": "markdown",
      "source": [
        "7. Eligibility for Loan Approval\n",
        "\n",
        "Scenario: A bank approves loans based on these conditions:\n",
        "\n",
        "Age should be between 21 and 60\n",
        "\n",
        "Monthly income should be greater than or equal to $5000\n",
        "\n",
        "\n",
        "Task: Write a program to check whether a person is eligible for the loan based on their age and monthly income.\n",
        "\n"
      ],
      "metadata": {
        "id": "o5nruXVdAyQg"
      }
    },
    {
      "cell_type": "code",
      "source": [
        "age=int(input(\"enter your age:\"))\n",
        "income=float(input(\"enter your monthly income:\"))\n",
        "if age>=21 and age<=60 and income>=5000:\n",
        "  print(\"loan approved\")\n",
        "else:\n",
        "  print(\"loan not approved\")"
      ],
      "metadata": {
        "colab": {
          "base_uri": "https://localhost:8080/"
        },
        "id": "wZi0Q_ugA3Zr",
        "outputId": "821c5fbf-d8b5-4001-9d00-798932d8f45d"
      },
      "execution_count": null,
      "outputs": [
        {
          "output_type": "stream",
          "name": "stdout",
          "text": [
            "enter your age:22\n",
            "enter your monthly income:15000\n",
            "loan approved\n"
          ]
        }
      ]
    },
    {
      "cell_type": "markdown",
      "source": [
        "8. Temperature Alert System\n",
        "\n",
        "Scenario: A weather monitoring system alerts based on the temperature:\n",
        "\n",
        "Below 0°C: \"Freezing weather\"\n",
        "\n",
        "0°C to 20°C: \"Cold weather\"\n",
        "\n",
        "21°C to 30°C: \"Warm weather\"\n",
        "\n",
        "Above 30°C: \"Hot weather\"\n",
        "\n",
        "Task: Write a program that takes the temperature as input and displays the corresponding alert message."
      ],
      "metadata": {
        "id": "iHdtIsenCHdx"
      }
    },
    {
      "cell_type": "code",
      "source": [
        "tem=float(input(\"enter the temperature:\"))\n",
        "if tem < 0:\n",
        "  print(\"Freezing weather\")\n",
        "\n",
        "elif 0<=tem<= 20:\n",
        "  print(\"Cold weather\")\n",
        "\n",
        "elif 21<=tem<=30:\n",
        "  print(\"Warm weather\")\n",
        "\n",
        "else:\n",
        "  print(\"Hot weather\")"
      ],
      "metadata": {
        "colab": {
          "base_uri": "https://localhost:8080/"
        },
        "id": "M8M7GttQCMhR",
        "outputId": "5ec4c25c-c3f3-4e0f-b9d4-fbb02855af53"
      },
      "execution_count": null,
      "outputs": [
        {
          "output_type": "stream",
          "name": "stdout",
          "text": [
            "enter the temperature:22\n",
            "Warm weather\n"
          ]
        }
      ]
    }
  ]
}