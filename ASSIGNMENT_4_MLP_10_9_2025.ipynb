{
  "nbformat": 4,
  "nbformat_minor": 0,
  "metadata": {
    "colab": {
      "provenance": []
    },
    "kernelspec": {
      "name": "python3",
      "display_name": "Python 3"
    },
    "language_info": {
      "name": "python"
    }
  },
  "cells": [
    {
      "cell_type": "markdown",
      "source": [
        "**ASSIGNMENT:4 10/9/2025 DAY 4**"
      ],
      "metadata": {
        "id": "39ot_4aT536d"
      }
    },
    {
      "cell_type": "markdown",
      "source": [
        "1. Grading System\n",
        "\n",
        "Write a Python program that takes a student’s marks as input.\n",
        "\n",
        "If marks ≥ 90 → print \"Grade A\"\n",
        "\n",
        "Else if marks ≥ 75 → print \"Grade B\"\n",
        "\n",
        "Else if marks ≥ 50 → print \"Grade C\"\n",
        "\n",
        "Else → print \"Fail\"\n"
      ],
      "metadata": {
        "id": "liKHuptu6Ih8"
      }
    },
    {
      "cell_type": "code",
      "source": [
        "mark = int(input(\"enter your mark:\"))\n",
        "if mark >= 50:\n",
        "  if(mark>=75):\n",
        "    if(mark>=90):\n",
        "      print(\"Grade A\")\n",
        "    else:\n",
        "      print(\"Grade B\")\n",
        "  else:\n",
        "    print(\"Grade C\")\n",
        "else:\n",
        "  print(\"Fail\")\n"
      ],
      "metadata": {
        "colab": {
          "base_uri": "https://localhost:8080/"
        },
        "id": "uFviggwb6GiL",
        "outputId": "41df5857-e01d-471b-f14b-56f3731fe4ff"
      },
      "execution_count": null,
      "outputs": [
        {
          "output_type": "stream",
          "name": "stdout",
          "text": [
            "enter your mark:33\n",
            "Fail\n"
          ]
        }
      ]
    },
    {
      "cell_type": "markdown",
      "source": [
        "2. ATM Withdrawal Check\n",
        "Ask the user for:\n",
        "\n",
        "Account balance\n",
        "\n",
        "Amount to withdraw\n",
        "Check using nested if:\n",
        "\n",
        "If balance ≥ withdrawal amount → further check if withdrawal amount is a multiple of 100\n",
        "\n",
        "If yes → \"Transaction Successful\"\n",
        "\n",
        "Else → \"Enter amount in multiples of 100\"\n",
        "\n",
        "Else → \"Insufficient Balance\"\n"
      ],
      "metadata": {
        "id": "vYiGfoFD8yT6"
      }
    },
    {
      "cell_type": "code",
      "source": [
        "balance = int(input(\"enter your balance:\"))\n",
        "withdraw = int(input(\"enter the amount to withdraw:\"))\n",
        "if (balance >= withdraw):\n",
        "  if (withdraw % 100 == 0):\n",
        "    print(\"transaction successful\")\n",
        "  else:\n",
        "    print(\"enter amount in multiples of 100\")\n",
        "else:\n",
        "  print(\"insufficient\")"
      ],
      "metadata": {
        "colab": {
          "base_uri": "https://localhost:8080/"
        },
        "id": "Uao9i7fP84qX",
        "outputId": "69dae8b1-c27e-42ea-ae0b-2d49687e4375"
      },
      "execution_count": null,
      "outputs": [
        {
          "output_type": "stream",
          "name": "stdout",
          "text": [
            "enter your balance:0\n",
            "enter the amount to withdraw:1\n",
            "insufficient\n"
          ]
        }
      ]
    },
    {
      "cell_type": "markdown",
      "source": [
        "3. Triangle Type Checker\n",
        "Take three sides of a triangle as input.\n",
        "\n",
        "First check if it forms a valid triangle (a+b > c, b+c > a, a+c > b).\n",
        "\n",
        "If valid, then check:\n",
        "\n",
        "If all sides are equal → \"Equilateral\"\n",
        "\n",
        "Else if two sides are equal → \"Isosceles\"\n",
        "\n",
        "Else → \"Scalene\"\n",
        "\n",
        "Else → \"Not a Triangle\"\n"
      ],
      "metadata": {
        "id": "3HNlk40O-4_m"
      }
    },
    {
      "cell_type": "code",
      "source": [
        "a=int(input(\"enter the a side:\"))\n",
        "b=int(input(\"enter the b side:\"))\n",
        "c=int(input(\"enter the c side:\"))\n",
        "if((a+b > c) and (b+c > a) and (a+c > b)):\n",
        "  if (a == b and b == c):\n",
        "    print(\"Equilateral\")\n",
        "  else:\n",
        "    if (a == b or b == c or a == c):\n",
        "      print(\"isosceles\")\n",
        "    else:\n",
        "      print(\"scalence\")\n",
        "else:\n",
        "  print(\"not a triangle\")"
      ],
      "metadata": {
        "colab": {
          "base_uri": "https://localhost:8080/"
        },
        "id": "oeZaZRIE_MFA",
        "outputId": "acd6dbe1-9d39-44dc-cefd-89593ac4ca05"
      },
      "execution_count": null,
      "outputs": [
        {
          "output_type": "stream",
          "name": "stdout",
          "text": [
            "enter the a side:1\n",
            "enter the b side:4\n",
            "enter the c side:8\n",
            "not a triangle\n"
          ]
        }
      ]
    },
    {
      "cell_type": "markdown",
      "source": [
        "4. Voting Eligibility\n",
        "Ask the user for age and citizenship (Indian/Other).\n",
        "\n",
        "If age ≥ 18\n",
        "\n",
        "If citizenship is Indian → \"Eligible to Vote\"\n",
        "\n",
        "Else → \"Not Eligible (Non-Citizen)\"\n",
        "\n",
        "Else → \"Not Eligible (Underage)\"\n"
      ],
      "metadata": {
        "id": "3Ixj5gSjC7t7"
      }
    },
    {
      "cell_type": "code",
      "source": [
        "age=int(input(\"enter your age:\"))\n",
        "citizenship=input(\"enter your country:\").strip().lower()\n",
        "if age >=18:\n",
        "  if citizenship == \"indian\":\n",
        "    print(\"eligible to vote\")\n",
        "  else:\n",
        "    print(\"not eligible (non-citizen)\")\n",
        "else:\n",
        "  print(\"not eligible (underage)\")"
      ],
      "metadata": {
        "colab": {
          "base_uri": "https://localhost:8080/"
        },
        "id": "UdnsddQnDBch",
        "outputId": "915c0fa0-3a79-4c95-8290-a4a1979b3568"
      },
      "execution_count": null,
      "outputs": [
        {
          "output_type": "stream",
          "name": "stdout",
          "text": [
            "enter your age:19\n",
            "enter your country:china\n",
            "not eligible (non-citizen)\n"
          ]
        }
      ]
    },
    {
      "cell_type": "markdown",
      "source": [
        "5. Discount Calculator\n",
        "Take the total bill amount as input.\n",
        "\n",
        "If bill ≥ 5000\n",
        "\n",
        "If bill ≥ 10000 → give 20% discount\n",
        "\n",
        "Else → give 10% discount\n",
        "\n",
        "Else\n",
        "\n",
        "If bill ≥ 2000 → give 5% discount\n",
        "\n",
        "Else → \"No Discount\""
      ],
      "metadata": {
        "id": "XnIA_ahJEKyT"
      }
    },
    {
      "cell_type": "code",
      "source": [
        "total_bill = int(input(\"enter the total bill:\"))\n",
        "if total_bill >=5000:\n",
        "  if total_bill >=10000:\n",
        "    discount=total_bill*0.2\n",
        "    print(\"give 20% discount\",discount)\n",
        "  else:\n",
        "    discount=total_bill*0.1\n",
        "    print(\"give 10% discount\",discount)\n",
        "else:\n",
        "  if total_bill >=2000:\n",
        "    discount=total_bill*0.05\n",
        "    print(\"give 5% discount\",discount)\n",
        "  else:\n",
        "    print(\"no discount\")"
      ],
      "metadata": {
        "colab": {
          "base_uri": "https://localhost:8080/"
        },
        "id": "ZwgVN-LNEJv8",
        "outputId": "f8e0662a-1f5d-466c-8ba4-3c881aea3069"
      },
      "execution_count": null,
      "outputs": [
        {
          "output_type": "stream",
          "name": "stdout",
          "text": [
            "enter the total bill:1\n",
            "no discount\n"
          ]
        }
      ]
    }
  ]
}